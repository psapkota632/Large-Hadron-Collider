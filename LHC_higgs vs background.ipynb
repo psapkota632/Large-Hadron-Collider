{
 "cells": [
  {
   "cell_type": "markdown",
   "metadata": {
    "id": "TJ-SHHfw73NF"
   },
   "source": [
    "<a href=\"https://colab.research.google.com/github/ML4SCIHackathon/ML4SCI/blob/main/HiggsBosonClassificationChallenge/higgs_classification.ipynb\" target=\"_parent\"><img src=\"https://colab.research.google.com/assets/colab-badge.svg\" alt=\"Open In Colab\"/></a>\n",
    "\n"
   ]
  },
  {
   "cell_type": "markdown",
   "metadata": {
    "id": "LzK7JiSZ_MtX"
   },
   "source": [
    "**This is an example Notebook for running training on Higgs vs background signal classification. **"
   ]
  },
  {
   "cell_type": "markdown",
   "metadata": {
    "id": "T4kV4R6SDR8X"
   },
   "source": [
    "**Background:** High-energy collisions at the Large Hadron Collider (LHC) produce particles that interact with particle detectors. One important task is to classify different types of collisions based on their physics content, allowing physicists to find patterns in the data and to potentially unravel new discoveries. "
   ]
  },
  {
   "cell_type": "markdown",
   "metadata": {
    "id": "fHw_uCCcHJqn"
   },
   "source": [
    "**Problem statement:** The discovery of the Higgs boson by CMS and ATLAS Collaborations was announced at CERN in 2012. In this work, we focus on the potential of Machine Learning and Deep Learning in detecting potential Higgs signal from one of the background processes that mimics it. "
   ]
  },
  {
   "cell_type": "markdown",
   "metadata": {
    "id": "qAJnE-4uANmP"
   },
   "source": [
    "**Dataset:** The dataset is made available by the Center for Machine Learning and Intelligent Systems at University of California, Irvine. \n",
    "The dataset can be found on the [UCI Machine learning Repository](https://archive.ics.uci.edu/ml/datasets/HIGGS)"
   ]
  },
  {
   "cell_type": "markdown",
   "metadata": {
    "id": "5u1kJGUdAZ9m"
   },
   "source": [
    "**Description:** The dataset consists of a total of 11 million labeled samples of Higgs vs background events produced by Monte Carlo simulations. Each sample consists of 28 features. The first 21 features are kinematic properties measured at the level of the detectors. The last seven are functions of the first 21.\n",
    "\n",
    "\n"
   ]
  },
  {
   "cell_type": "markdown",
   "metadata": {
    "id": "myu16dmzSBmo"
   },
   "source": [
    "**Steps to load the training dataset**\n",
    "1. Download the dataset from the UCI website. "
   ]
  },
  {
   "cell_type": "code",
   "execution_count": null,
   "metadata": {
    "id": "mrM-WOaxRWsP"
   },
   "outputs": [],
   "source": [
    "!wget https://archive.ics.uci.edu/ml/machine-learning-databases/00280/HIGGS.csv.gz"
   ]
  },
  {
   "cell_type": "markdown",
   "metadata": {
    "id": "0xHJtIbPVT-n"
   },
   "source": [
    "2. Unzip the dataset folder"
   ]
  },
  {
   "cell_type": "code",
   "execution_count": null,
   "metadata": {
    "id": "2J3v5kgbSrjx"
   },
   "outputs": [],
   "source": [
    " !gzip -d HIGGS.csv.gz"
   ]
  },
  {
   "cell_type": "code",
   "execution_count": null,
   "metadata": {
    "id": "12UVmIBOtsxg"
   },
   "outputs": [],
   "source": [
    "pip install plot-metric "
   ]
  },
  {
   "cell_type": "code",
   "execution_count": 105,
   "metadata": {
    "id": "MLREBn86VD5H"
   },
   "outputs": [],
   "source": [
    "from sklearn.datasets import make_gaussian_quantiles\n",
    "from sklearn.ensemble import AdaBoostClassifier\n",
    "from sklearn.metrics import accuracy_score\n",
    "from sklearn.tree import DecisionTreeClassifier\n",
    "from sklearn.metrics import confusion_matrix"
   ]
  },
  {
   "cell_type": "code",
   "execution_count": 106,
   "metadata": {
    "id": "MUE2QepFVwEq"
   },
   "outputs": [],
   "source": [
    "from sklearn.model_selection import train_test_split\n",
    "import pandas as pd\n",
    "import numpy as np"
   ]
  },
  {
   "cell_type": "code",
   "execution_count": 107,
   "metadata": {
    "id": "8H-i4o9RWNED"
   },
   "outputs": [],
   "source": [
    "import numpy as np\n",
    "np.random.seed(1337)  # for reproducibility\n",
    "import h5py\n",
    "from keras.models import Sequential\n",
    "from keras.optimizers import Adam\n",
    "from keras.initializers import TruncatedNormal\n",
    "from keras.layers import Input, Dense, Dropout, Flatten, Conv2D, MaxPooling2D\n",
    "from keras.callbacks import ReduceLROnPlateau\n",
    "\n",
    "from sklearn.metrics import roc_curve, auc\n",
    "\n",
    "import matplotlib.pyplot as plt"
   ]
  },
  {
   "cell_type": "markdown",
   "metadata": {
    "id": "4GDeVfB04Qe4"
   },
   "source": [
    "**Load the file using pandas library**"
   ]
  },
  {
   "cell_type": "code",
   "execution_count": 108,
   "metadata": {
    "id": "Jxfnd8shK0vq"
   },
   "outputs": [],
   "source": [
    "data=pd.read_csv('./HIGGS.csv')"
   ]
  },
  {
   "cell_type": "code",
   "execution_count": 109,
   "metadata": {},
   "outputs": [
    {
     "data": {
      "text/plain": [
       "(10999999, 29)"
      ]
     },
     "execution_count": 109,
     "metadata": {},
     "output_type": "execute_result"
    }
   ],
   "source": [
    "data.shape"
   ]
  },
  {
   "cell_type": "markdown",
   "metadata": {
    "id": "ZTnbxdjkUp73"
   },
   "source": [
    "Assign first column 0 to class labels (labeled 1 for signal, 0 for background)  and all others to feature matrix X.\n",
    "\n",
    "In this example, for the sake of fast checking, we use 1000 samples. To train on the entire dataset, proceed with uncommenting the lines below. "
   ]
  },
  {
   "cell_type": "code",
   "execution_count": 110,
   "metadata": {
    "id": "hoRPhH9dNmCy"
   },
   "outputs": [],
   "source": [
    "X=data.iloc[:1100000,1:]#data.iloc[:,1:]\n",
    "y=data.iloc[:1100000,0]#data.iloc[:,0]"
   ]
  },
  {
   "cell_type": "markdown",
   "metadata": {
    "id": "hQX3GUrVUe7N"
   },
   "source": [
    "Split your data into training and validation samples where the fraction of the data used for validation is 33%. "
   ]
  },
  {
   "cell_type": "code",
   "execution_count": 111,
   "metadata": {
    "id": "50-8I-fj8jC7"
   },
   "outputs": [],
   "source": [
    "# TRAINING SAMPLES = 737000\n",
    "# VALIDATION SAMPLES = 363000\n",
    "X_train1, X_val, y_train1, y_val = train_test_split(X, y, test_size=0.33, random_state=42)\n",
    "#X_train, X_test, y_train, y_test = train_test_split(X_train1, y_train1, test_size=0.2, random_state=42)"
   ]
  },
  {
   "cell_type": "code",
   "execution_count": 112,
   "metadata": {},
   "outputs": [
    {
     "data": {
      "text/html": [
       "<div>\n",
       "<style scoped>\n",
       "    .dataframe tbody tr th:only-of-type {\n",
       "        vertical-align: middle;\n",
       "    }\n",
       "\n",
       "    .dataframe tbody tr th {\n",
       "        vertical-align: top;\n",
       "    }\n",
       "\n",
       "    .dataframe thead th {\n",
       "        text-align: right;\n",
       "    }\n",
       "</style>\n",
       "<table border=\"1\" class=\"dataframe\">\n",
       "  <thead>\n",
       "    <tr style=\"text-align: right;\">\n",
       "      <th></th>\n",
       "      <th>8.692932128906250000e-01</th>\n",
       "      <th>-6.350818276405334473e-01</th>\n",
       "      <th>2.256902605295181274e-01</th>\n",
       "      <th>3.274700641632080078e-01</th>\n",
       "      <th>-6.899932026863098145e-01</th>\n",
       "      <th>7.542022466659545898e-01</th>\n",
       "      <th>-2.485731393098831177e-01</th>\n",
       "      <th>-1.092063903808593750e+00</th>\n",
       "      <th>0.000000000000000000e+00</th>\n",
       "      <th>1.374992132186889648e+00</th>\n",
       "      <th>...</th>\n",
       "      <th>-1.045456994324922562e-02</th>\n",
       "      <th>-4.576716944575309753e-02</th>\n",
       "      <th>3.101961374282836914e+00</th>\n",
       "      <th>1.353760004043579102e+00</th>\n",
       "      <th>9.795631170272827148e-01</th>\n",
       "      <th>9.780761599540710449e-01</th>\n",
       "      <th>9.200048446655273438e-01</th>\n",
       "      <th>7.216574549674987793e-01</th>\n",
       "      <th>9.887509346008300781e-01</th>\n",
       "      <th>8.766783475875854492e-01</th>\n",
       "    </tr>\n",
       "  </thead>\n",
       "  <tbody>\n",
       "    <tr>\n",
       "      <th>1074749</th>\n",
       "      <td>0.729840</td>\n",
       "      <td>-0.114009</td>\n",
       "      <td>0.668470</td>\n",
       "      <td>1.871964</td>\n",
       "      <td>-0.426785</td>\n",
       "      <td>1.355512</td>\n",
       "      <td>-0.029732</td>\n",
       "      <td>-0.521609</td>\n",
       "      <td>2.173076</td>\n",
       "      <td>3.025209</td>\n",
       "      <td>...</td>\n",
       "      <td>-0.839114</td>\n",
       "      <td>1.601870</td>\n",
       "      <td>0.000000</td>\n",
       "      <td>0.906205</td>\n",
       "      <td>1.117819</td>\n",
       "      <td>1.350422</td>\n",
       "      <td>0.656801</td>\n",
       "      <td>0.457228</td>\n",
       "      <td>0.690633</td>\n",
       "      <td>0.690516</td>\n",
       "    </tr>\n",
       "    <tr>\n",
       "      <th>1062145</th>\n",
       "      <td>0.899307</td>\n",
       "      <td>-0.480221</td>\n",
       "      <td>-0.863608</td>\n",
       "      <td>2.599179</td>\n",
       "      <td>-1.289305</td>\n",
       "      <td>1.551460</td>\n",
       "      <td>-1.684406</td>\n",
       "      <td>0.950360</td>\n",
       "      <td>0.000000</td>\n",
       "      <td>0.632161</td>\n",
       "      <td>...</td>\n",
       "      <td>-0.586768</td>\n",
       "      <td>0.805571</td>\n",
       "      <td>1.550981</td>\n",
       "      <td>0.819676</td>\n",
       "      <td>1.034069</td>\n",
       "      <td>0.991139</td>\n",
       "      <td>0.841814</td>\n",
       "      <td>0.869429</td>\n",
       "      <td>0.987353</td>\n",
       "      <td>0.996984</td>\n",
       "    </tr>\n",
       "    <tr>\n",
       "      <th>174224</th>\n",
       "      <td>1.342555</td>\n",
       "      <td>-1.019799</td>\n",
       "      <td>1.413093</td>\n",
       "      <td>0.358799</td>\n",
       "      <td>-0.988126</td>\n",
       "      <td>1.258042</td>\n",
       "      <td>1.147651</td>\n",
       "      <td>-1.134196</td>\n",
       "      <td>0.000000</td>\n",
       "      <td>1.869793</td>\n",
       "      <td>...</td>\n",
       "      <td>-1.203890</td>\n",
       "      <td>0.760623</td>\n",
       "      <td>3.101961</td>\n",
       "      <td>1.606475</td>\n",
       "      <td>1.143080</td>\n",
       "      <td>0.987645</td>\n",
       "      <td>0.983979</td>\n",
       "      <td>0.372906</td>\n",
       "      <td>0.964013</td>\n",
       "      <td>0.866613</td>\n",
       "    </tr>\n",
       "    <tr>\n",
       "      <th>410402</th>\n",
       "      <td>1.030158</td>\n",
       "      <td>-0.610733</td>\n",
       "      <td>-1.617664</td>\n",
       "      <td>0.780539</td>\n",
       "      <td>-0.686808</td>\n",
       "      <td>0.885292</td>\n",
       "      <td>1.141710</td>\n",
       "      <td>-0.079772</td>\n",
       "      <td>2.173076</td>\n",
       "      <td>0.577142</td>\n",
       "      <td>...</td>\n",
       "      <td>0.722430</td>\n",
       "      <td>-0.928080</td>\n",
       "      <td>0.000000</td>\n",
       "      <td>1.262262</td>\n",
       "      <td>1.036194</td>\n",
       "      <td>0.992646</td>\n",
       "      <td>1.557282</td>\n",
       "      <td>0.925992</td>\n",
       "      <td>1.144251</td>\n",
       "      <td>1.031324</td>\n",
       "    </tr>\n",
       "    <tr>\n",
       "      <th>184181</th>\n",
       "      <td>1.350424</td>\n",
       "      <td>1.315778</td>\n",
       "      <td>1.366485</td>\n",
       "      <td>0.571174</td>\n",
       "      <td>-0.420196</td>\n",
       "      <td>1.185031</td>\n",
       "      <td>0.045525</td>\n",
       "      <td>-0.799354</td>\n",
       "      <td>2.173076</td>\n",
       "      <td>0.497445</td>\n",
       "      <td>...</td>\n",
       "      <td>-0.989855</td>\n",
       "      <td>0.579722</td>\n",
       "      <td>3.101961</td>\n",
       "      <td>0.670658</td>\n",
       "      <td>0.924835</td>\n",
       "      <td>1.215790</td>\n",
       "      <td>1.549762</td>\n",
       "      <td>1.607111</td>\n",
       "      <td>1.312903</td>\n",
       "      <td>0.998282</td>\n",
       "    </tr>\n",
       "    <tr>\n",
       "      <th>...</th>\n",
       "      <td>...</td>\n",
       "      <td>...</td>\n",
       "      <td>...</td>\n",
       "      <td>...</td>\n",
       "      <td>...</td>\n",
       "      <td>...</td>\n",
       "      <td>...</td>\n",
       "      <td>...</td>\n",
       "      <td>...</td>\n",
       "      <td>...</td>\n",
       "      <td>...</td>\n",
       "      <td>...</td>\n",
       "      <td>...</td>\n",
       "      <td>...</td>\n",
       "      <td>...</td>\n",
       "      <td>...</td>\n",
       "      <td>...</td>\n",
       "      <td>...</td>\n",
       "      <td>...</td>\n",
       "      <td>...</td>\n",
       "      <td>...</td>\n",
       "    </tr>\n",
       "    <tr>\n",
       "      <th>110268</th>\n",
       "      <td>0.788586</td>\n",
       "      <td>-0.354579</td>\n",
       "      <td>0.905950</td>\n",
       "      <td>0.870206</td>\n",
       "      <td>1.074697</td>\n",
       "      <td>0.451349</td>\n",
       "      <td>0.078203</td>\n",
       "      <td>-1.617612</td>\n",
       "      <td>2.173076</td>\n",
       "      <td>0.680634</td>\n",
       "      <td>...</td>\n",
       "      <td>-0.944049</td>\n",
       "      <td>-1.342599</td>\n",
       "      <td>0.000000</td>\n",
       "      <td>0.918180</td>\n",
       "      <td>1.026455</td>\n",
       "      <td>0.986134</td>\n",
       "      <td>0.879795</td>\n",
       "      <td>0.718234</td>\n",
       "      <td>0.981404</td>\n",
       "      <td>1.548375</td>\n",
       "    </tr>\n",
       "    <tr>\n",
       "      <th>259178</th>\n",
       "      <td>0.324658</td>\n",
       "      <td>0.856064</td>\n",
       "      <td>-0.579519</td>\n",
       "      <td>1.099081</td>\n",
       "      <td>-1.536288</td>\n",
       "      <td>1.129517</td>\n",
       "      <td>-0.404039</td>\n",
       "      <td>0.338884</td>\n",
       "      <td>0.000000</td>\n",
       "      <td>0.718909</td>\n",
       "      <td>...</td>\n",
       "      <td>0.302687</td>\n",
       "      <td>0.707351</td>\n",
       "      <td>0.000000</td>\n",
       "      <td>0.779641</td>\n",
       "      <td>1.060481</td>\n",
       "      <td>0.978867</td>\n",
       "      <td>0.689341</td>\n",
       "      <td>0.883801</td>\n",
       "      <td>0.901593</td>\n",
       "      <td>0.808299</td>\n",
       "    </tr>\n",
       "    <tr>\n",
       "      <th>131932</th>\n",
       "      <td>0.862339</td>\n",
       "      <td>-1.268162</td>\n",
       "      <td>-0.696595</td>\n",
       "      <td>0.519568</td>\n",
       "      <td>1.398865</td>\n",
       "      <td>1.011985</td>\n",
       "      <td>0.072261</td>\n",
       "      <td>-1.225114</td>\n",
       "      <td>2.173076</td>\n",
       "      <td>1.489438</td>\n",
       "      <td>...</td>\n",
       "      <td>-1.213051</td>\n",
       "      <td>1.648482</td>\n",
       "      <td>0.000000</td>\n",
       "      <td>0.624119</td>\n",
       "      <td>1.115521</td>\n",
       "      <td>0.991976</td>\n",
       "      <td>1.397756</td>\n",
       "      <td>1.804373</td>\n",
       "      <td>1.250584</td>\n",
       "      <td>1.006668</td>\n",
       "    </tr>\n",
       "    <tr>\n",
       "      <th>671155</th>\n",
       "      <td>0.587825</td>\n",
       "      <td>1.719975</td>\n",
       "      <td>1.375918</td>\n",
       "      <td>0.851554</td>\n",
       "      <td>-1.369054</td>\n",
       "      <td>1.454081</td>\n",
       "      <td>0.243571</td>\n",
       "      <td>1.050148</td>\n",
       "      <td>2.173076</td>\n",
       "      <td>1.729788</td>\n",
       "      <td>...</td>\n",
       "      <td>-0.585935</td>\n",
       "      <td>-0.741629</td>\n",
       "      <td>0.000000</td>\n",
       "      <td>0.921326</td>\n",
       "      <td>2.490229</td>\n",
       "      <td>0.992499</td>\n",
       "      <td>1.070218</td>\n",
       "      <td>0.998546</td>\n",
       "      <td>2.047518</td>\n",
       "      <td>1.737910</td>\n",
       "    </tr>\n",
       "    <tr>\n",
       "      <th>121958</th>\n",
       "      <td>2.373079</td>\n",
       "      <td>-1.117196</td>\n",
       "      <td>-1.117734</td>\n",
       "      <td>0.978904</td>\n",
       "      <td>-0.582439</td>\n",
       "      <td>1.731010</td>\n",
       "      <td>-0.437707</td>\n",
       "      <td>0.917098</td>\n",
       "      <td>1.086538</td>\n",
       "      <td>1.054190</td>\n",
       "      <td>...</td>\n",
       "      <td>-0.410210</td>\n",
       "      <td>-0.967479</td>\n",
       "      <td>0.000000</td>\n",
       "      <td>0.953261</td>\n",
       "      <td>1.224777</td>\n",
       "      <td>0.987020</td>\n",
       "      <td>0.467499</td>\n",
       "      <td>1.089825</td>\n",
       "      <td>1.261358</td>\n",
       "      <td>0.997629</td>\n",
       "    </tr>\n",
       "  </tbody>\n",
       "</table>\n",
       "<p>737000 rows × 28 columns</p>\n",
       "</div>"
      ],
      "text/plain": [
       "         8.692932128906250000e-01  -6.350818276405334473e-01  \\\n",
       "1074749                  0.729840                  -0.114009   \n",
       "1062145                  0.899307                  -0.480221   \n",
       "174224                   1.342555                  -1.019799   \n",
       "410402                   1.030158                  -0.610733   \n",
       "184181                   1.350424                   1.315778   \n",
       "...                           ...                        ...   \n",
       "110268                   0.788586                  -0.354579   \n",
       "259178                   0.324658                   0.856064   \n",
       "131932                   0.862339                  -1.268162   \n",
       "671155                   0.587825                   1.719975   \n",
       "121958                   2.373079                  -1.117196   \n",
       "\n",
       "         2.256902605295181274e-01  3.274700641632080078e-01  \\\n",
       "1074749                  0.668470                  1.871964   \n",
       "1062145                 -0.863608                  2.599179   \n",
       "174224                   1.413093                  0.358799   \n",
       "410402                  -1.617664                  0.780539   \n",
       "184181                   1.366485                  0.571174   \n",
       "...                           ...                       ...   \n",
       "110268                   0.905950                  0.870206   \n",
       "259178                  -0.579519                  1.099081   \n",
       "131932                  -0.696595                  0.519568   \n",
       "671155                   1.375918                  0.851554   \n",
       "121958                  -1.117734                  0.978904   \n",
       "\n",
       "         -6.899932026863098145e-01  7.542022466659545898e-01  \\\n",
       "1074749                  -0.426785                  1.355512   \n",
       "1062145                  -1.289305                  1.551460   \n",
       "174224                   -0.988126                  1.258042   \n",
       "410402                   -0.686808                  0.885292   \n",
       "184181                   -0.420196                  1.185031   \n",
       "...                            ...                       ...   \n",
       "110268                    1.074697                  0.451349   \n",
       "259178                   -1.536288                  1.129517   \n",
       "131932                    1.398865                  1.011985   \n",
       "671155                   -1.369054                  1.454081   \n",
       "121958                   -0.582439                  1.731010   \n",
       "\n",
       "         -2.485731393098831177e-01  -1.092063903808593750e+00  \\\n",
       "1074749                  -0.029732                  -0.521609   \n",
       "1062145                  -1.684406                   0.950360   \n",
       "174224                    1.147651                  -1.134196   \n",
       "410402                    1.141710                  -0.079772   \n",
       "184181                    0.045525                  -0.799354   \n",
       "...                            ...                        ...   \n",
       "110268                    0.078203                  -1.617612   \n",
       "259178                   -0.404039                   0.338884   \n",
       "131932                    0.072261                  -1.225114   \n",
       "671155                    0.243571                   1.050148   \n",
       "121958                   -0.437707                   0.917098   \n",
       "\n",
       "         0.000000000000000000e+00  1.374992132186889648e+00  ...  \\\n",
       "1074749                  2.173076                  3.025209  ...   \n",
       "1062145                  0.000000                  0.632161  ...   \n",
       "174224                   0.000000                  1.869793  ...   \n",
       "410402                   2.173076                  0.577142  ...   \n",
       "184181                   2.173076                  0.497445  ...   \n",
       "...                           ...                       ...  ...   \n",
       "110268                   2.173076                  0.680634  ...   \n",
       "259178                   0.000000                  0.718909  ...   \n",
       "131932                   2.173076                  1.489438  ...   \n",
       "671155                   2.173076                  1.729788  ...   \n",
       "121958                   1.086538                  1.054190  ...   \n",
       "\n",
       "         -1.045456994324922562e-02  -4.576716944575309753e-02  \\\n",
       "1074749                  -0.839114                   1.601870   \n",
       "1062145                  -0.586768                   0.805571   \n",
       "174224                   -1.203890                   0.760623   \n",
       "410402                    0.722430                  -0.928080   \n",
       "184181                   -0.989855                   0.579722   \n",
       "...                            ...                        ...   \n",
       "110268                   -0.944049                  -1.342599   \n",
       "259178                    0.302687                   0.707351   \n",
       "131932                   -1.213051                   1.648482   \n",
       "671155                   -0.585935                  -0.741629   \n",
       "121958                   -0.410210                  -0.967479   \n",
       "\n",
       "         3.101961374282836914e+00  1.353760004043579102e+00  \\\n",
       "1074749                  0.000000                  0.906205   \n",
       "1062145                  1.550981                  0.819676   \n",
       "174224                   3.101961                  1.606475   \n",
       "410402                   0.000000                  1.262262   \n",
       "184181                   3.101961                  0.670658   \n",
       "...                           ...                       ...   \n",
       "110268                   0.000000                  0.918180   \n",
       "259178                   0.000000                  0.779641   \n",
       "131932                   0.000000                  0.624119   \n",
       "671155                   0.000000                  0.921326   \n",
       "121958                   0.000000                  0.953261   \n",
       "\n",
       "         9.795631170272827148e-01  9.780761599540710449e-01  \\\n",
       "1074749                  1.117819                  1.350422   \n",
       "1062145                  1.034069                  0.991139   \n",
       "174224                   1.143080                  0.987645   \n",
       "410402                   1.036194                  0.992646   \n",
       "184181                   0.924835                  1.215790   \n",
       "...                           ...                       ...   \n",
       "110268                   1.026455                  0.986134   \n",
       "259178                   1.060481                  0.978867   \n",
       "131932                   1.115521                  0.991976   \n",
       "671155                   2.490229                  0.992499   \n",
       "121958                   1.224777                  0.987020   \n",
       "\n",
       "         9.200048446655273438e-01  7.216574549674987793e-01  \\\n",
       "1074749                  0.656801                  0.457228   \n",
       "1062145                  0.841814                  0.869429   \n",
       "174224                   0.983979                  0.372906   \n",
       "410402                   1.557282                  0.925992   \n",
       "184181                   1.549762                  1.607111   \n",
       "...                           ...                       ...   \n",
       "110268                   0.879795                  0.718234   \n",
       "259178                   0.689341                  0.883801   \n",
       "131932                   1.397756                  1.804373   \n",
       "671155                   1.070218                  0.998546   \n",
       "121958                   0.467499                  1.089825   \n",
       "\n",
       "         9.887509346008300781e-01  8.766783475875854492e-01  \n",
       "1074749                  0.690633                  0.690516  \n",
       "1062145                  0.987353                  0.996984  \n",
       "174224                   0.964013                  0.866613  \n",
       "410402                   1.144251                  1.031324  \n",
       "184181                   1.312903                  0.998282  \n",
       "...                           ...                       ...  \n",
       "110268                   0.981404                  1.548375  \n",
       "259178                   0.901593                  0.808299  \n",
       "131932                   1.250584                  1.006668  \n",
       "671155                   2.047518                  1.737910  \n",
       "121958                   1.261358                  0.997629  \n",
       "\n",
       "[737000 rows x 28 columns]"
      ]
     },
     "execution_count": 112,
     "metadata": {},
     "output_type": "execute_result"
    }
   ],
   "source": [
    "X_train1"
   ]
  },
  {
   "cell_type": "code",
   "execution_count": 156,
   "metadata": {},
   "outputs": [
    {
     "data": {
      "text/html": [
       "<div>\n",
       "<style scoped>\n",
       "    .dataframe tbody tr th:only-of-type {\n",
       "        vertical-align: middle;\n",
       "    }\n",
       "\n",
       "    .dataframe tbody tr th {\n",
       "        vertical-align: top;\n",
       "    }\n",
       "\n",
       "    .dataframe thead th {\n",
       "        text-align: right;\n",
       "    }\n",
       "</style>\n",
       "<table border=\"1\" class=\"dataframe\">\n",
       "  <thead>\n",
       "    <tr style=\"text-align: right;\">\n",
       "      <th></th>\n",
       "      <th>8.692932128906250000e-01</th>\n",
       "      <th>-6.350818276405334473e-01</th>\n",
       "      <th>2.256902605295181274e-01</th>\n",
       "      <th>3.274700641632080078e-01</th>\n",
       "      <th>-6.899932026863098145e-01</th>\n",
       "      <th>7.542022466659545898e-01</th>\n",
       "      <th>-2.485731393098831177e-01</th>\n",
       "      <th>-1.092063903808593750e+00</th>\n",
       "      <th>0.000000000000000000e+00</th>\n",
       "      <th>1.374992132186889648e+00</th>\n",
       "      <th>...</th>\n",
       "      <th>-1.045456994324922562e-02</th>\n",
       "      <th>-4.576716944575309753e-02</th>\n",
       "      <th>3.101961374282836914e+00</th>\n",
       "      <th>1.353760004043579102e+00</th>\n",
       "      <th>9.795631170272827148e-01</th>\n",
       "      <th>9.780761599540710449e-01</th>\n",
       "      <th>9.200048446655273438e-01</th>\n",
       "      <th>7.216574549674987793e-01</th>\n",
       "      <th>9.887509346008300781e-01</th>\n",
       "      <th>8.766783475875854492e-01</th>\n",
       "    </tr>\n",
       "  </thead>\n",
       "  <tbody>\n",
       "    <tr>\n",
       "      <th>255968</th>\n",
       "      <td>1.803372</td>\n",
       "      <td>1.130724</td>\n",
       "      <td>-0.191113</td>\n",
       "      <td>1.081142</td>\n",
       "      <td>1.724209</td>\n",
       "      <td>0.849565</td>\n",
       "      <td>-1.446751</td>\n",
       "      <td>1.687679</td>\n",
       "      <td>0.000000</td>\n",
       "      <td>0.776699</td>\n",
       "      <td>...</td>\n",
       "      <td>-0.729181</td>\n",
       "      <td>1.271697</td>\n",
       "      <td>0.000000</td>\n",
       "      <td>0.503964</td>\n",
       "      <td>0.662570</td>\n",
       "      <td>1.911101</td>\n",
       "      <td>1.149485</td>\n",
       "      <td>0.986362</td>\n",
       "      <td>0.993674</td>\n",
       "      <td>1.276092</td>\n",
       "    </tr>\n",
       "    <tr>\n",
       "      <th>780983</th>\n",
       "      <td>2.014930</td>\n",
       "      <td>0.978785</td>\n",
       "      <td>0.411569</td>\n",
       "      <td>0.667062</td>\n",
       "      <td>1.337087</td>\n",
       "      <td>0.362398</td>\n",
       "      <td>0.338633</td>\n",
       "      <td>-1.632580</td>\n",
       "      <td>2.173076</td>\n",
       "      <td>0.383754</td>\n",
       "      <td>...</td>\n",
       "      <td>0.988100</td>\n",
       "      <td>1.280576</td>\n",
       "      <td>0.000000</td>\n",
       "      <td>0.712477</td>\n",
       "      <td>0.610774</td>\n",
       "      <td>1.189938</td>\n",
       "      <td>0.961014</td>\n",
       "      <td>0.417702</td>\n",
       "      <td>0.716656</td>\n",
       "      <td>0.699690</td>\n",
       "    </tr>\n",
       "    <tr>\n",
       "      <th>214662</th>\n",
       "      <td>0.779070</td>\n",
       "      <td>1.806658</td>\n",
       "      <td>-0.673290</td>\n",
       "      <td>1.254218</td>\n",
       "      <td>-1.296059</td>\n",
       "      <td>0.887949</td>\n",
       "      <td>-0.187179</td>\n",
       "      <td>0.807886</td>\n",
       "      <td>2.173076</td>\n",
       "      <td>0.452623</td>\n",
       "      <td>...</td>\n",
       "      <td>0.535878</td>\n",
       "      <td>0.014821</td>\n",
       "      <td>1.550981</td>\n",
       "      <td>0.903535</td>\n",
       "      <td>0.961955</td>\n",
       "      <td>0.990078</td>\n",
       "      <td>1.301102</td>\n",
       "      <td>0.994303</td>\n",
       "      <td>1.552084</td>\n",
       "      <td>1.318619</td>\n",
       "    </tr>\n",
       "    <tr>\n",
       "      <th>339422</th>\n",
       "      <td>0.394202</td>\n",
       "      <td>-0.335099</td>\n",
       "      <td>0.046470</td>\n",
       "      <td>0.538785</td>\n",
       "      <td>-0.405269</td>\n",
       "      <td>0.897293</td>\n",
       "      <td>-1.742830</td>\n",
       "      <td>1.695995</td>\n",
       "      <td>0.000000</td>\n",
       "      <td>0.953089</td>\n",
       "      <td>...</td>\n",
       "      <td>-0.041269</td>\n",
       "      <td>0.837756</td>\n",
       "      <td>3.101961</td>\n",
       "      <td>0.895627</td>\n",
       "      <td>1.042416</td>\n",
       "      <td>0.992850</td>\n",
       "      <td>0.998636</td>\n",
       "      <td>0.876856</td>\n",
       "      <td>0.922443</td>\n",
       "      <td>1.120752</td>\n",
       "    </tr>\n",
       "    <tr>\n",
       "      <th>634690</th>\n",
       "      <td>0.720507</td>\n",
       "      <td>-0.696442</td>\n",
       "      <td>0.820502</td>\n",
       "      <td>0.890894</td>\n",
       "      <td>-1.414209</td>\n",
       "      <td>0.952165</td>\n",
       "      <td>-0.989265</td>\n",
       "      <td>0.655433</td>\n",
       "      <td>1.086538</td>\n",
       "      <td>1.080378</td>\n",
       "      <td>...</td>\n",
       "      <td>-0.536799</td>\n",
       "      <td>1.240067</td>\n",
       "      <td>0.000000</td>\n",
       "      <td>1.095034</td>\n",
       "      <td>1.074422</td>\n",
       "      <td>1.003318</td>\n",
       "      <td>0.851035</td>\n",
       "      <td>1.517776</td>\n",
       "      <td>1.012460</td>\n",
       "      <td>0.852904</td>\n",
       "    </tr>\n",
       "    <tr>\n",
       "      <th>...</th>\n",
       "      <td>...</td>\n",
       "      <td>...</td>\n",
       "      <td>...</td>\n",
       "      <td>...</td>\n",
       "      <td>...</td>\n",
       "      <td>...</td>\n",
       "      <td>...</td>\n",
       "      <td>...</td>\n",
       "      <td>...</td>\n",
       "      <td>...</td>\n",
       "      <td>...</td>\n",
       "      <td>...</td>\n",
       "      <td>...</td>\n",
       "      <td>...</td>\n",
       "      <td>...</td>\n",
       "      <td>...</td>\n",
       "      <td>...</td>\n",
       "      <td>...</td>\n",
       "      <td>...</td>\n",
       "      <td>...</td>\n",
       "      <td>...</td>\n",
       "    </tr>\n",
       "    <tr>\n",
       "      <th>136856</th>\n",
       "      <td>0.327952</td>\n",
       "      <td>-0.937986</td>\n",
       "      <td>0.951449</td>\n",
       "      <td>0.714200</td>\n",
       "      <td>-0.932298</td>\n",
       "      <td>0.641067</td>\n",
       "      <td>-0.056469</td>\n",
       "      <td>-0.247193</td>\n",
       "      <td>2.173076</td>\n",
       "      <td>1.340998</td>\n",
       "      <td>...</td>\n",
       "      <td>2.066607</td>\n",
       "      <td>1.278356</td>\n",
       "      <td>0.000000</td>\n",
       "      <td>1.088769</td>\n",
       "      <td>1.331389</td>\n",
       "      <td>0.988117</td>\n",
       "      <td>2.130616</td>\n",
       "      <td>1.013534</td>\n",
       "      <td>1.457716</td>\n",
       "      <td>1.333156</td>\n",
       "    </tr>\n",
       "    <tr>\n",
       "      <th>1036666</th>\n",
       "      <td>0.365286</td>\n",
       "      <td>-1.054862</td>\n",
       "      <td>-1.521673</td>\n",
       "      <td>1.535157</td>\n",
       "      <td>0.677757</td>\n",
       "      <td>0.828862</td>\n",
       "      <td>1.099130</td>\n",
       "      <td>-0.019899</td>\n",
       "      <td>2.173076</td>\n",
       "      <td>0.776573</td>\n",
       "      <td>...</td>\n",
       "      <td>-0.287785</td>\n",
       "      <td>-1.483547</td>\n",
       "      <td>3.101961</td>\n",
       "      <td>0.888916</td>\n",
       "      <td>0.939666</td>\n",
       "      <td>0.988651</td>\n",
       "      <td>0.934369</td>\n",
       "      <td>1.405765</td>\n",
       "      <td>1.335696</td>\n",
       "      <td>1.237653</td>\n",
       "    </tr>\n",
       "    <tr>\n",
       "      <th>116217</th>\n",
       "      <td>0.387796</td>\n",
       "      <td>-1.690864</td>\n",
       "      <td>0.868775</td>\n",
       "      <td>1.206100</td>\n",
       "      <td>-0.417922</td>\n",
       "      <td>0.609554</td>\n",
       "      <td>0.140587</td>\n",
       "      <td>-1.568272</td>\n",
       "      <td>0.000000</td>\n",
       "      <td>1.174176</td>\n",
       "      <td>...</td>\n",
       "      <td>-0.411043</td>\n",
       "      <td>-0.666716</td>\n",
       "      <td>3.101961</td>\n",
       "      <td>0.767163</td>\n",
       "      <td>0.596650</td>\n",
       "      <td>0.989367</td>\n",
       "      <td>0.914324</td>\n",
       "      <td>0.698992</td>\n",
       "      <td>0.841752</td>\n",
       "      <td>0.981267</td>\n",
       "    </tr>\n",
       "    <tr>\n",
       "      <th>576539</th>\n",
       "      <td>0.500164</td>\n",
       "      <td>-0.402303</td>\n",
       "      <td>1.482451</td>\n",
       "      <td>0.915269</td>\n",
       "      <td>-0.838185</td>\n",
       "      <td>0.809625</td>\n",
       "      <td>0.446568</td>\n",
       "      <td>0.984731</td>\n",
       "      <td>2.173076</td>\n",
       "      <td>0.578904</td>\n",
       "      <td>...</td>\n",
       "      <td>1.094702</td>\n",
       "      <td>1.452598</td>\n",
       "      <td>0.000000</td>\n",
       "      <td>0.533804</td>\n",
       "      <td>0.744061</td>\n",
       "      <td>0.988904</td>\n",
       "      <td>1.201349</td>\n",
       "      <td>1.122408</td>\n",
       "      <td>0.866457</td>\n",
       "      <td>0.745658</td>\n",
       "    </tr>\n",
       "    <tr>\n",
       "      <th>602844</th>\n",
       "      <td>0.839829</td>\n",
       "      <td>0.541472</td>\n",
       "      <td>0.589679</td>\n",
       "      <td>1.051280</td>\n",
       "      <td>1.023248</td>\n",
       "      <td>1.065209</td>\n",
       "      <td>1.141710</td>\n",
       "      <td>-0.741699</td>\n",
       "      <td>1.086538</td>\n",
       "      <td>0.473397</td>\n",
       "      <td>...</td>\n",
       "      <td>0.172767</td>\n",
       "      <td>-0.172287</td>\n",
       "      <td>0.000000</td>\n",
       "      <td>0.970966</td>\n",
       "      <td>1.026361</td>\n",
       "      <td>0.995423</td>\n",
       "      <td>0.827931</td>\n",
       "      <td>0.924917</td>\n",
       "      <td>0.901483</td>\n",
       "      <td>0.783414</td>\n",
       "    </tr>\n",
       "  </tbody>\n",
       "</table>\n",
       "<p>363000 rows × 28 columns</p>\n",
       "</div>"
      ],
      "text/plain": [
       "         8.692932128906250000e-01  -6.350818276405334473e-01  \\\n",
       "255968                   1.803372                   1.130724   \n",
       "780983                   2.014930                   0.978785   \n",
       "214662                   0.779070                   1.806658   \n",
       "339422                   0.394202                  -0.335099   \n",
       "634690                   0.720507                  -0.696442   \n",
       "...                           ...                        ...   \n",
       "136856                   0.327952                  -0.937986   \n",
       "1036666                  0.365286                  -1.054862   \n",
       "116217                   0.387796                  -1.690864   \n",
       "576539                   0.500164                  -0.402303   \n",
       "602844                   0.839829                   0.541472   \n",
       "\n",
       "         2.256902605295181274e-01  3.274700641632080078e-01  \\\n",
       "255968                  -0.191113                  1.081142   \n",
       "780983                   0.411569                  0.667062   \n",
       "214662                  -0.673290                  1.254218   \n",
       "339422                   0.046470                  0.538785   \n",
       "634690                   0.820502                  0.890894   \n",
       "...                           ...                       ...   \n",
       "136856                   0.951449                  0.714200   \n",
       "1036666                 -1.521673                  1.535157   \n",
       "116217                   0.868775                  1.206100   \n",
       "576539                   1.482451                  0.915269   \n",
       "602844                   0.589679                  1.051280   \n",
       "\n",
       "         -6.899932026863098145e-01  7.542022466659545898e-01  \\\n",
       "255968                    1.724209                  0.849565   \n",
       "780983                    1.337087                  0.362398   \n",
       "214662                   -1.296059                  0.887949   \n",
       "339422                   -0.405269                  0.897293   \n",
       "634690                   -1.414209                  0.952165   \n",
       "...                            ...                       ...   \n",
       "136856                   -0.932298                  0.641067   \n",
       "1036666                   0.677757                  0.828862   \n",
       "116217                   -0.417922                  0.609554   \n",
       "576539                   -0.838185                  0.809625   \n",
       "602844                    1.023248                  1.065209   \n",
       "\n",
       "         -2.485731393098831177e-01  -1.092063903808593750e+00  \\\n",
       "255968                   -1.446751                   1.687679   \n",
       "780983                    0.338633                  -1.632580   \n",
       "214662                   -0.187179                   0.807886   \n",
       "339422                   -1.742830                   1.695995   \n",
       "634690                   -0.989265                   0.655433   \n",
       "...                            ...                        ...   \n",
       "136856                   -0.056469                  -0.247193   \n",
       "1036666                   1.099130                  -0.019899   \n",
       "116217                    0.140587                  -1.568272   \n",
       "576539                    0.446568                   0.984731   \n",
       "602844                    1.141710                  -0.741699   \n",
       "\n",
       "         0.000000000000000000e+00  1.374992132186889648e+00  ...  \\\n",
       "255968                   0.000000                  0.776699  ...   \n",
       "780983                   2.173076                  0.383754  ...   \n",
       "214662                   2.173076                  0.452623  ...   \n",
       "339422                   0.000000                  0.953089  ...   \n",
       "634690                   1.086538                  1.080378  ...   \n",
       "...                           ...                       ...  ...   \n",
       "136856                   2.173076                  1.340998  ...   \n",
       "1036666                  2.173076                  0.776573  ...   \n",
       "116217                   0.000000                  1.174176  ...   \n",
       "576539                   2.173076                  0.578904  ...   \n",
       "602844                   1.086538                  0.473397  ...   \n",
       "\n",
       "         -1.045456994324922562e-02  -4.576716944575309753e-02  \\\n",
       "255968                   -0.729181                   1.271697   \n",
       "780983                    0.988100                   1.280576   \n",
       "214662                    0.535878                   0.014821   \n",
       "339422                   -0.041269                   0.837756   \n",
       "634690                   -0.536799                   1.240067   \n",
       "...                            ...                        ...   \n",
       "136856                    2.066607                   1.278356   \n",
       "1036666                  -0.287785                  -1.483547   \n",
       "116217                   -0.411043                  -0.666716   \n",
       "576539                    1.094702                   1.452598   \n",
       "602844                    0.172767                  -0.172287   \n",
       "\n",
       "         3.101961374282836914e+00  1.353760004043579102e+00  \\\n",
       "255968                   0.000000                  0.503964   \n",
       "780983                   0.000000                  0.712477   \n",
       "214662                   1.550981                  0.903535   \n",
       "339422                   3.101961                  0.895627   \n",
       "634690                   0.000000                  1.095034   \n",
       "...                           ...                       ...   \n",
       "136856                   0.000000                  1.088769   \n",
       "1036666                  3.101961                  0.888916   \n",
       "116217                   3.101961                  0.767163   \n",
       "576539                   0.000000                  0.533804   \n",
       "602844                   0.000000                  0.970966   \n",
       "\n",
       "         9.795631170272827148e-01  9.780761599540710449e-01  \\\n",
       "255968                   0.662570                  1.911101   \n",
       "780983                   0.610774                  1.189938   \n",
       "214662                   0.961955                  0.990078   \n",
       "339422                   1.042416                  0.992850   \n",
       "634690                   1.074422                  1.003318   \n",
       "...                           ...                       ...   \n",
       "136856                   1.331389                  0.988117   \n",
       "1036666                  0.939666                  0.988651   \n",
       "116217                   0.596650                  0.989367   \n",
       "576539                   0.744061                  0.988904   \n",
       "602844                   1.026361                  0.995423   \n",
       "\n",
       "         9.200048446655273438e-01  7.216574549674987793e-01  \\\n",
       "255968                   1.149485                  0.986362   \n",
       "780983                   0.961014                  0.417702   \n",
       "214662                   1.301102                  0.994303   \n",
       "339422                   0.998636                  0.876856   \n",
       "634690                   0.851035                  1.517776   \n",
       "...                           ...                       ...   \n",
       "136856                   2.130616                  1.013534   \n",
       "1036666                  0.934369                  1.405765   \n",
       "116217                   0.914324                  0.698992   \n",
       "576539                   1.201349                  1.122408   \n",
       "602844                   0.827931                  0.924917   \n",
       "\n",
       "         9.887509346008300781e-01  8.766783475875854492e-01  \n",
       "255968                   0.993674                  1.276092  \n",
       "780983                   0.716656                  0.699690  \n",
       "214662                   1.552084                  1.318619  \n",
       "339422                   0.922443                  1.120752  \n",
       "634690                   1.012460                  0.852904  \n",
       "...                           ...                       ...  \n",
       "136856                   1.457716                  1.333156  \n",
       "1036666                  1.335696                  1.237653  \n",
       "116217                   0.841752                  0.981267  \n",
       "576539                   0.866457                  0.745658  \n",
       "602844                   0.901483                  0.783414  \n",
       "\n",
       "[363000 rows x 28 columns]"
      ]
     },
     "execution_count": 156,
     "metadata": {},
     "output_type": "execute_result"
    }
   ],
   "source": [
    "X_val"
   ]
  },
  {
   "cell_type": "markdown",
   "metadata": {
    "id": "PexwSVQ34M_l"
   },
   "source": [
    "**Visualize your data - One histogram per feature column**"
   ]
  },
  {
   "cell_type": "markdown",
   "metadata": {
    "id": "d8UNRLc-5VPM"
   },
   "source": [
    "Detailed information on what each feature column is can be found in *Attribute Information* section on the [UCI Machine learning Repositery](https://archive.ics.uci.edu/ml/datasets/HIGGS). For further information, refer to the [paper](https://www.nature.com/articles/ncomms5308) by Baldi et. al "
   ]
  },
  {
   "cell_type": "code",
   "execution_count": 113,
   "metadata": {
    "colab": {
     "base_uri": "https://localhost:8080/",
     "height": 1000
    },
    "id": "5BA9_Q-_B-8A",
    "outputId": "bc85ca79-936f-4251-e8a2-6512f11cab94"
   },
   "outputs": [
    {
     "data": {
      "image/png": "[encoded data removed]",
      "text/plain": [
       "<Figure size 864x3456 with 27 Axes>"
      ]
     },
     "metadata": {},
     "output_type": "display_data"
    }
   ],
   "source": [
    "from itertools import combinations\n",
    "import matplotlib.pyplot as plt\n",
    "\n",
    "fig, axes = plt.subplots(len(X_train.columns)//3, 3, figsize=(12, 48))\n",
    "\n",
    "i = 0\n",
    "for triaxis in axes:\n",
    "    for axis in triaxis:\n",
    "        X_train.hist(column = X_train.columns[i], bins = 100, ax=axis)\n",
    "        i = i+1"
   ]
  },
  {
   "cell_type": "markdown",
   "metadata": {
    "id": "gaejW9wqtYms"
   },
   "source": [
    "# USING ANN MODEL"
   ]
  },
  {
   "cell_type": "markdown",
   "metadata": {
    "id": "ULHd0Oto3om9"
   },
   "source": [
    "**Setup the Neural Network** (some useful info [here](https://towardsdatascience.com/a-gentle-introduction-to-neural-networks-series-part-1-2b90b87795bc))"
   ]
  },
  {
   "cell_type": "code",
   "execution_count": 114,
   "metadata": {
    "id": "k_I4kazT3_3c"
   },
   "outputs": [],
   "source": [
    "from numpy import loadtxt\n",
    "from keras.models import Sequential\n",
    "from keras.layers import Dense"
   ]
  },
  {
   "cell_type": "code",
   "execution_count": 115,
   "metadata": {
    "id": "2rcPG-UX3kkq"
   },
   "outputs": [],
   "source": [
    "model_nn = Sequential()\n",
    "model_nn.add(Dense(28, input_dim=28, activation='relu'))\n",
    "model_nn.add(Dense(10, activation='relu'))\n",
    "model_nn.add(Dense(10, activation='relu'))\n",
    "model_nn.add(Dense(1, activation='sigmoid'))"
   ]
  },
  {
   "cell_type": "code",
   "execution_count": 116,
   "metadata": {},
   "outputs": [
    {
     "name": "stdout",
     "output_type": "stream",
     "text": [
      "Model: \"sequential_5\"\n",
      "_________________________________________________________________\n",
      "Layer (type)                 Output Shape              Param #   \n",
      "=================================================================\n",
      "dense_20 (Dense)             (None, 28)                812       \n",
      "_________________________________________________________________\n",
      "dense_21 (Dense)             (None, 10)                290       \n",
      "_________________________________________________________________\n",
      "dense_22 (Dense)             (None, 10)                110       \n",
      "_________________________________________________________________\n",
      "dense_23 (Dense)             (None, 1)                 11        \n",
      "=================================================================\n",
      "Total params: 1,223\n",
      "Trainable params: 1,223\n",
      "Non-trainable params: 0\n",
      "_________________________________________________________________\n"
     ]
    }
   ],
   "source": [
    "model_nn.summary()"
   ]
  },
  {
   "cell_type": "markdown",
   "metadata": {
    "id": "udhrPh3c4JoT"
   },
   "source": [
    "**Train the Neural Network and save your model weights in a h5 file**"
   ]
  },
  {
   "cell_type": "code",
   "execution_count": 117,
   "metadata": {
    "colab": {
     "base_uri": "https://localhost:8080/",
     "height": 221
    },
    "id": "gDEm75CK3-TT",
    "outputId": "78dc19e6-d1b5-4f32-fdbe-a18a786e9a73",
    "scrolled": false
   },
   "outputs": [
    {
     "name": "stdout",
     "output_type": "stream",
     "text": [
      "Epoch 1/49\n",
      "14740/14740 [==============================] - 8s 533us/step - loss: 0.6152 - accuracy: 0.6547 - val_loss: 0.5863 - val_accuracy: 0.6863\n",
      "Epoch 2/49\n",
      "14740/14740 [==============================] - 8s 535us/step - loss: 0.5844 - accuracy: 0.6879 - val_loss: 0.5783 - val_accuracy: 0.6932\n",
      "Epoch 3/49\n",
      "14740/14740 [==============================] - 10s 666us/step - loss: 0.5738 - accuracy: 0.6973 - val_loss: 0.5697 - val_accuracy: 0.7003\n",
      "Epoch 4/49\n",
      "14740/14740 [==============================] - 10s 693us/step - loss: 0.5666 - accuracy: 0.7037 - val_loss: 0.5627 - val_accuracy: 0.7062\n",
      "Epoch 5/49\n",
      "14740/14740 [==============================] - 10s 699us/step - loss: 0.5613 - accuracy: 0.7069 - val_loss: 0.5568 - val_accuracy: 0.7099\n",
      "Epoch 6/49\n",
      "14740/14740 [==============================] - 10s 710us/step - loss: 0.5572 - accuracy: 0.7099 - val_loss: 0.5558 - val_accuracy: 0.7116\n",
      "Epoch 7/49\n",
      "14740/14740 [==============================] - 10s 706us/step - loss: 0.5544 - accuracy: 0.7115 - val_loss: 0.5491 - val_accuracy: 0.7154\n",
      "Epoch 8/49\n",
      "14740/14740 [==============================] - 10s 705us/step - loss: 0.5520 - accuracy: 0.7136 - val_loss: 0.5532 - val_accuracy: 0.7127\n",
      "Epoch 9/49\n",
      "14740/14740 [==============================] - 10s 697us/step - loss: 0.5493 - accuracy: 0.7156 - val_loss: 0.5473 - val_accuracy: 0.7170\n",
      "Epoch 10/49\n",
      "14740/14740 [==============================] - 10s 694us/step - loss: 0.5471 - accuracy: 0.7173 - val_loss: 0.5428 - val_accuracy: 0.7196\n",
      "Epoch 11/49\n",
      "14740/14740 [==============================] - 10s 693us/step - loss: 0.5452 - accuracy: 0.7189 - val_loss: 0.5445 - val_accuracy: 0.7188\n",
      "Epoch 12/49\n",
      "14740/14740 [==============================] - 10s 688us/step - loss: 0.5439 - accuracy: 0.7192 - val_loss: 0.5400 - val_accuracy: 0.7214\n",
      "Epoch 13/49\n",
      "14740/14740 [==============================] - 11s 730us/step - loss: 0.5424 - accuracy: 0.7206 - val_loss: 0.5387 - val_accuracy: 0.7230\n",
      "Epoch 14/49\n",
      "14740/14740 [==============================] - 11s 722us/step - loss: 0.5411 - accuracy: 0.7209 - val_loss: 0.5407 - val_accuracy: 0.7216\n",
      "Epoch 15/49\n",
      "14740/14740 [==============================] - 10s 694us/step - loss: 0.5399 - accuracy: 0.7220 - val_loss: 0.5382 - val_accuracy: 0.7232\n",
      "Epoch 16/49\n",
      "14740/14740 [==============================] - 10s 702us/step - loss: 0.5388 - accuracy: 0.7223 - val_loss: 0.5410 - val_accuracy: 0.7220\n",
      "Epoch 17/49\n",
      "14740/14740 [==============================] - 10s 692us/step - loss: 0.5377 - accuracy: 0.7232 - val_loss: 0.5352 - val_accuracy: 0.7251\n",
      "Epoch 18/49\n",
      "14740/14740 [==============================] - 10s 694us/step - loss: 0.5366 - accuracy: 0.7246 - val_loss: 0.5348 - val_accuracy: 0.7250\n",
      "Epoch 19/49\n",
      "14740/14740 [==============================] - 10s 702us/step - loss: 0.5358 - accuracy: 0.7249 - val_loss: 0.5328 - val_accuracy: 0.7271\n",
      "Epoch 20/49\n",
      "14740/14740 [==============================] - 10s 700us/step - loss: 0.5350 - accuracy: 0.7256 - val_loss: 0.5349 - val_accuracy: 0.7253\n",
      "Epoch 21/49\n",
      "14740/14740 [==============================] - 10s 695us/step - loss: 0.5342 - accuracy: 0.7262 - val_loss: 0.5308 - val_accuracy: 0.7282\n",
      "Epoch 22/49\n",
      "14740/14740 [==============================] - 11s 714us/step - loss: 0.5334 - accuracy: 0.7267 - val_loss: 0.5372 - val_accuracy: 0.7233\n",
      "Epoch 23/49\n",
      "14740/14740 [==============================] - 10s 704us/step - loss: 0.5329 - accuracy: 0.7275 - val_loss: 0.5307 - val_accuracy: 0.7295\n",
      "Epoch 24/49\n",
      "14740/14740 [==============================] - 10s 710us/step - loss: 0.5323 - accuracy: 0.7281 - val_loss: 0.5325 - val_accuracy: 0.7287\n",
      "Epoch 25/49\n",
      "14740/14740 [==============================] - 10s 708us/step - loss: 0.5315 - accuracy: 0.7280 - val_loss: 0.5300 - val_accuracy: 0.7299\n",
      "Epoch 26/49\n",
      "14740/14740 [==============================] - 10s 697us/step - loss: 0.5310 - accuracy: 0.7288 - val_loss: 0.5271 - val_accuracy: 0.7311\n",
      "Epoch 27/49\n",
      "14740/14740 [==============================] - 10s 706us/step - loss: 0.5302 - accuracy: 0.7290 - val_loss: 0.5276 - val_accuracy: 0.7314\n",
      "Epoch 28/49\n",
      "14740/14740 [==============================] - 10s 701us/step - loss: 0.5295 - accuracy: 0.7296 - val_loss: 0.5282 - val_accuracy: 0.7314\n",
      "Epoch 29/49\n",
      "14740/14740 [==============================] - 10s 711us/step - loss: 0.5289 - accuracy: 0.7302 - val_loss: 0.5280 - val_accuracy: 0.7310\n",
      "Epoch 30/49\n",
      "14740/14740 [==============================] - 10s 708us/step - loss: 0.5283 - accuracy: 0.7304 - val_loss: 0.5292 - val_accuracy: 0.7294\n",
      "Epoch 31/49\n",
      "14740/14740 [==============================] - 10s 701us/step - loss: 0.5280 - accuracy: 0.7309 - val_loss: 0.5291 - val_accuracy: 0.7304\n",
      "Epoch 32/49\n",
      "14740/14740 [==============================] - 10s 699us/step - loss: 0.5276 - accuracy: 0.7316 - val_loss: 0.5279 - val_accuracy: 0.7314\n",
      "Epoch 33/49\n",
      "14740/14740 [==============================] - 10s 700us/step - loss: 0.5272 - accuracy: 0.7315 - val_loss: 0.5248 - val_accuracy: 0.7326\n",
      "Epoch 34/49\n",
      "14740/14740 [==============================] - 10s 692us/step - loss: 0.5270 - accuracy: 0.7320 - val_loss: 0.5250 - val_accuracy: 0.7330\n",
      "Epoch 35/49\n",
      "14740/14740 [==============================] - 10s 687us/step - loss: 0.5269 - accuracy: 0.7319 - val_loss: 0.5248 - val_accuracy: 0.7335\n",
      "Epoch 36/49\n",
      "14740/14740 [==============================] - 10s 706us/step - loss: 0.5265 - accuracy: 0.7321 - val_loss: 0.5251 - val_accuracy: 0.7335\n",
      "Epoch 37/49\n",
      "14740/14740 [==============================] - 10s 706us/step - loss: 0.5262 - accuracy: 0.7320 - val_loss: 0.5259 - val_accuracy: 0.7331\n",
      "Epoch 38/49\n",
      "14740/14740 [==============================] - 10s 698us/step - loss: 0.5260 - accuracy: 0.7326 - val_loss: 0.5272 - val_accuracy: 0.7318\n",
      "Epoch 39/49\n",
      "14740/14740 [==============================] - 10s 691us/step - loss: 0.5258 - accuracy: 0.7329 - val_loss: 0.5256 - val_accuracy: 0.7323\n",
      "Epoch 40/49\n",
      "14740/14740 [==============================] - 10s 693us/step - loss: 0.5257 - accuracy: 0.7329 - val_loss: 0.5225 - val_accuracy: 0.7349\n",
      "Epoch 41/49\n",
      "14740/14740 [==============================] - 10s 697us/step - loss: 0.5253 - accuracy: 0.7332 - val_loss: 0.5232 - val_accuracy: 0.7344\n",
      "Epoch 42/49\n",
      "14740/14740 [==============================] - 10s 709us/step - loss: 0.5253 - accuracy: 0.7330 - val_loss: 0.5231 - val_accuracy: 0.7341\n",
      "Epoch 43/49\n",
      "14740/14740 [==============================] - 10s 692us/step - loss: 0.5251 - accuracy: 0.7331 - val_loss: 0.5294 - val_accuracy: 0.7287\n",
      "Epoch 44/49\n",
      "14740/14740 [==============================] - 10s 691us/step - loss: 0.5248 - accuracy: 0.7338 - val_loss: 0.5253 - val_accuracy: 0.7328\n",
      "Epoch 45/49\n",
      "14740/14740 [==============================] - 10s 691us/step - loss: 0.5246 - accuracy: 0.7338 - val_loss: 0.5240 - val_accuracy: 0.7336\n",
      "Epoch 46/49\n",
      "14740/14740 [==============================] - 10s 691us/step - loss: 0.5244 - accuracy: 0.7339 - val_loss: 0.5284 - val_accuracy: 0.7307\n",
      "Epoch 47/49\n",
      "14740/14740 [==============================] - 10s 702us/step - loss: 0.5245 - accuracy: 0.7336 - val_loss: 0.5255 - val_accuracy: 0.7326\n",
      "Epoch 48/49\n",
      "14740/14740 [==============================] - 11s 719us/step - loss: 0.5241 - accuracy: 0.7338 - val_loss: 0.5219 - val_accuracy: 0.7353\n",
      "Epoch 49/49\n",
      "14740/14740 [==============================] - 10s 699us/step - loss: 0.5240 - accuracy: 0.7341 - val_loss: 0.5218 - val_accuracy: 0.7362\n"
     ]
    }
   ],
   "source": [
    "# compile the keras model\n",
    "model_nn.compile(loss='binary_crossentropy', optimizer='adam', metrics=['accuracy'])\n",
    "# fit the keras model on the dataset\n",
    "history=model_nn.fit(X_train1, y_train1,validation_data=(X_val,y_val),epochs=49, batch_size=50)\n",
    "# evaluate the keras model\n",
    "\n",
    "#_, accuracy = model_nn.evaluate(X_val, y_val)\n",
    "#model_nn.save('my_model.h5') ##Saving model weights\n",
    "#print('Accuracy: %.2f' % (accuracy*100))"
   ]
  },
  {
   "cell_type": "code",
   "execution_count": 144,
   "metadata": {},
   "outputs": [],
   "source": [
    "weights = model_nn.layers[0].get_weights()[0]"
   ]
  },
  {
   "cell_type": "code",
   "execution_count": 145,
   "metadata": {},
   "outputs": [
    {
     "data": {
      "text/plain": [
       "array([[ 6.58633828e-01,  2.91419649e+00,  1.90500751e-01,\n",
       "        -3.45130498e-03,  5.99014759e-01,  9.93972540e-01,\n",
       "         8.02120805e-01,  1.25406072e-01, -5.48905969e-01,\n",
       "         7.59290636e-01,  8.09982836e-01,  3.82886231e-02,\n",
       "        -1.44304693e-01,  1.41401863e+00,  5.51507175e-01,\n",
       "         6.76507205e-02, -2.42073521e-01, -8.66639793e-01,\n",
       "         5.65902293e-01, -5.81068873e-01,  2.33948663e-01,\n",
       "         3.89787942e-01, -7.06266880e-01, -2.97669709e-01,\n",
       "        -3.53005052e-01,  2.81336379e+00, -3.31727058e-01,\n",
       "        -2.20327765e-01],\n",
       "       [-7.59124309e-02,  1.19773924e+00,  2.59607378e-02,\n",
       "         2.49807928e-02, -1.22610950e+00, -1.52612686e-01,\n",
       "         2.02623653e+00, -4.08285916e-01,  7.58703649e-02,\n",
       "        -4.56027947e-02,  5.22894226e-02, -2.40560248e-02,\n",
       "        -1.16862822e-02,  2.04234123e+00,  5.72101362e-02,\n",
       "         9.47396178e-03, -2.35293936e-02,  1.27124354e-01,\n",
       "        -1.23581914e-02,  1.21443689e-01,  1.02779446e-02,\n",
       "        -1.15249213e-02,  5.54687460e-04,  9.87439137e-03,\n",
       "         1.08303688e-02, -1.44685066e+00, -8.43730941e-02,\n",
       "        -8.38499606e-01],\n",
       "       [-5.08946218e-02, -1.54398866e-02, -1.00160353e-02,\n",
       "         1.02742493e-01,  7.75406435e-02, -2.08133478e-02,\n",
       "        -4.58353348e-02, -8.01365376e-02,  6.83987215e-02,\n",
       "        -2.32374109e-02, -2.94357408e-02,  2.99203116e-03,\n",
       "         1.00344103e-02,  5.13813011e-02, -2.74225771e-02,\n",
       "         1.15604009e-02,  3.76931652e-02,  2.07004920e-02,\n",
       "        -6.41341042e-03, -3.82115804e-02, -3.33926757e-04,\n",
       "         2.77582044e-03, -5.65665215e-02,  7.32468301e-03,\n",
       "         1.00306310e-01,  2.52179168e-02,  1.21067222e-02,\n",
       "        -6.48705661e-02],\n",
       "       [ 2.12890172e+00,  3.54962379e-01, -8.29809457e-02,\n",
       "        -2.42190391e-01, -3.26855093e-01, -1.20729387e-01,\n",
       "        -3.51695985e-01,  5.14344918e-03, -3.64568084e-01,\n",
       "         3.03358436e-01,  6.42755687e-01, -2.86124018e-03,\n",
       "        -2.21057191e-01, -2.00892892e-02,  5.86071968e-01,\n",
       "         2.15704329e-02, -8.42066258e-02,  2.82359459e-02,\n",
       "         1.45056084e-01, -1.83213100e-01,  1.40865400e-01,\n",
       "         2.04385519e-01, -3.19018543e-01, -2.20576704e-01,\n",
       "        -8.91808793e-02,  2.24403173e-01, -6.85768202e-02,\n",
       "        -9.43716049e-01],\n",
       "       [-2.69189365e-02, -2.41831839e-02, -1.64851900e-02,\n",
       "        -2.55214900e-01,  8.78333747e-02,  9.17387009e-03,\n",
       "        -3.32447514e-02, -3.70913707e-02,  1.46760568e-02,\n",
       "        -1.23501532e-02, -5.84576651e-02, -9.74944141e-03,\n",
       "        -3.55716608e-03,  9.06573012e-02, -6.39735758e-02,\n",
       "        -6.49874052e-03,  1.55711127e-02, -2.18956470e-02,\n",
       "        -8.24481249e-03,  8.32335502e-02,  1.27630262e-03,\n",
       "         3.21338288e-02, -5.89273199e-02,  1.62071511e-02,\n",
       "         3.64001505e-02,  1.29223531e-02, -1.41611155e-02,\n",
       "         3.03385444e-02],\n",
       "       [-2.48051882e-01, -2.98801541e-01,  3.10371630e-02,\n",
       "        -3.90472770e-01, -2.18347955e+00,  5.40645719e-01,\n",
       "        -2.60263205e-01,  9.92264986e-01,  4.60033387e-01,\n",
       "         3.15989614e+00, -1.65446723e+00,  1.10070117e-01,\n",
       "         3.80455136e-01, -7.26751924e-01, -1.37519956e+00,\n",
       "         1.13634981e-01,  5.66936851e-01, -1.92243195e+00,\n",
       "         3.97348255e-01, -1.23186517e+00, -7.25208074e-02,\n",
       "         3.82680088e-01,  2.35973839e-02,  9.74275023e-02,\n",
       "        -3.35358590e-01, -4.85372931e-01, -3.54162455e-01,\n",
       "         1.48539454e-01],\n",
       "       [ 6.16002642e-02, -3.51955652e-01,  1.44816528e-03,\n",
       "         8.67007896e-02, -4.45336759e-01,  9.09767486e-03,\n",
       "        -7.38163531e-01,  2.03728294e+00,  3.21141072e-02,\n",
       "         1.08035825e-01,  7.52612203e-03,  7.14685116e-03,\n",
       "        -4.95367497e-02, -6.48305178e-01,  4.75589931e-02,\n",
       "         2.32524704e-02, -5.37548140e-02, -9.98428240e-02,\n",
       "        -4.71440852e-02,  7.33733922e-02,  1.02002267e-02,\n",
       "         1.70402601e-02, -3.23732831e-02, -1.83495246e-02,\n",
       "        -1.99005872e-01,  4.60064888e-01, -1.61004830e-02,\n",
       "         8.23058844e-01],\n",
       "       [-3.55769843e-02, -6.25307905e-03, -2.46342197e-02,\n",
       "        -1.88303143e-01,  4.95562516e-02, -4.69230628e-03,\n",
       "        -2.35471148e-02, -8.11876170e-03,  6.67051002e-02,\n",
       "         2.69418210e-02, -1.52903087e-02,  1.55741191e-02,\n",
       "        -2.47494895e-02, -1.43752294e-02,  1.51293963e-04,\n",
       "        -3.78862256e-03,  2.30870694e-02,  6.63221464e-04,\n",
       "        -3.67893837e-03, -2.12821318e-03, -6.82334835e-03,\n",
       "         1.76611133e-02,  2.33565960e-02,  1.49274303e-03,\n",
       "        -1.74638212e-01, -4.25669886e-02, -1.62256137e-02,\n",
       "        -6.43720701e-02],\n",
       "       [ 1.43418955e-02, -1.43900709e-02, -4.37254533e-02,\n",
       "        -1.31976709e-01, -2.39491522e-01, -1.99306943e-02,\n",
       "        -1.17908634e-01, -2.12597942e+00,  9.49591026e-02,\n",
       "         5.74224353e-01,  7.16764629e-02, -9.48456302e-03,\n",
       "         1.44845143e-01,  1.08480550e-01,  2.13832721e-01,\n",
       "         4.19230275e-02,  5.64394332e-03,  2.54916817e-01,\n",
       "        -4.28647101e-02,  1.51525140e-01,  3.21325958e-02,\n",
       "        -3.28413062e-02, -9.72226262e-02, -1.75060127e-02,\n",
       "        -2.35937461e-01,  6.33537769e-03,  5.79458773e-02,\n",
       "        -3.82430851e-01],\n",
       "       [-4.83773686e-02, -2.82271276e-03,  5.04255928e-02,\n",
       "        -4.40521955e-01, -1.97576120e-01,  7.12010682e-01,\n",
       "         1.45452663e-01,  1.02725565e-01,  2.35875562e-01,\n",
       "        -1.49192524e+00,  2.24990463e+00,  2.86172959e-03,\n",
       "         7.14983791e-02,  3.94404829e-02, -2.78149962e-01,\n",
       "         1.44296333e-01, -1.94805267e-04, -1.20543313e+00,\n",
       "         1.81735620e-01, -3.31062615e-01,  7.68302158e-02,\n",
       "         3.09659094e-01,  1.36009648e-01,  8.44589546e-02,\n",
       "        -3.05058390e-01, -2.12761108e-02, -7.01145902e-02,\n",
       "         6.91354156e-01],\n",
       "       [-3.62852355e-03, -3.11915159e-01, -6.85103657e-03,\n",
       "        -3.12235523e-02,  1.23578560e+00,  6.18889704e-02,\n",
       "        -3.19144070e-01, -3.37900043e-01, -6.27209991e-02,\n",
       "         2.32788697e-02, -6.39799749e-03,  1.23304944e-03,\n",
       "         6.63040653e-02, -4.01150703e-01, -8.36432800e-02,\n",
       "        -3.42577137e-03,  5.22833690e-02,  1.07853673e-01,\n",
       "         3.85122038e-02, -4.07765619e-02, -1.35997795e-02,\n",
       "         6.83434866e-03, -1.01128975e-02, -1.96597688e-02,\n",
       "         1.35282040e-01,  4.27901387e-01,  7.22630993e-02,\n",
       "        -3.18542197e-02],\n",
       "       [ 2.54279543e-02, -5.58261806e-03, -2.73739314e-03,\n",
       "        -1.61496967e-01,  3.89474556e-02, -7.25684268e-03,\n",
       "        -3.46123092e-02, -5.50413951e-02,  4.04599570e-02,\n",
       "         2.33227760e-02, -2.32522748e-03,  1.64235849e-02,\n",
       "        -1.71324424e-02,  3.00341453e-02,  4.28680889e-02,\n",
       "         2.60231718e-02,  1.18965264e-02,  1.88688841e-02,\n",
       "        -1.05326474e-02,  9.73185175e-04,  3.03035672e-03,\n",
       "         2.38717552e-02,  1.34671526e-02, -3.39248963e-02,\n",
       "         6.78257365e-03,  2.00551413e-02, -2.79735141e-02,\n",
       "        -3.14057060e-02],\n",
       "       [ 7.46107772e-02,  1.55532053e-02, -2.14069092e-04,\n",
       "         1.04831785e-01,  7.23184526e-01,  2.39989057e-01,\n",
       "        -8.46092328e-02, -9.41446424e-02,  9.90934893e-02,\n",
       "        -2.26955656e-02,  3.31841588e-01, -7.27680163e-04,\n",
       "         1.50355056e-01, -2.84522101e-02,  1.30238891e-01,\n",
       "         6.36355951e-03, -5.02649136e-02,  2.50550956e-01,\n",
       "         5.90985939e-02,  1.02760553e-01,  3.01801991e-02,\n",
       "        -5.94160799e-03, -6.86502550e-03, -3.73200141e-03,\n",
       "         1.85349267e-02,  6.90374225e-02,  1.13947786e-01,\n",
       "        -1.46709889e-01],\n",
       "       [-3.35463375e-01, -2.90823542e-02,  4.93961535e-02,\n",
       "        -2.69864082e-01, -9.44840550e-01,  4.18084145e-01,\n",
       "         9.65054184e-02,  6.18760049e-01, -7.51035288e-02,\n",
       "        -6.93098485e-01, -9.71629500e-01,  3.14592868e-02,\n",
       "         4.61913384e-02, -2.11152002e-01,  2.00835809e-01,\n",
       "        -1.92172881e-02, -9.25459489e-02, -6.90762103e-01,\n",
       "         2.02221461e-02, -2.51299679e-01,  2.69310027e-02,\n",
       "         2.57818907e-01,  2.51281828e-01, -4.26514447e-02,\n",
       "        -1.08054169e-01, -1.93646047e-02,  9.14360136e-02,\n",
       "         7.84267783e-01],\n",
       "       [-2.03170367e-02, -2.61763275e-01,  9.00027156e-03,\n",
       "        -1.36777908e-01,  1.15329206e-01,  5.11781359e-03,\n",
       "        -2.73738474e-01, -4.16593164e-01, -1.07500199e-02,\n",
       "         9.00250487e-03, -1.68634914e-02, -9.95074026e-03,\n",
       "        -3.33615346e-04, -5.13224602e-01, -2.02976745e-02,\n",
       "         2.86916294e-03,  3.41070443e-02, -6.90405965e-02,\n",
       "         2.27825008e-02, -5.61169945e-02, -9.48710585e-05,\n",
       "         2.24559065e-02, -3.33690760e-03,  1.19955856e-02,\n",
       "         1.58647642e-01,  3.30957800e-01, -3.12121841e-03,\n",
       "        -4.45819534e-02],\n",
       "       [ 5.07457135e-03,  7.23807327e-03,  2.00564303e-02,\n",
       "         6.34944290e-02,  1.25156984e-01,  1.08906506e-02,\n",
       "        -1.92126594e-02, -4.10394892e-02, -1.86235253e-02,\n",
       "         6.21114345e-03, -6.31048307e-02, -4.72576218e-03,\n",
       "        -1.02810264e-02,  3.21173891e-02, -6.60905009e-03,\n",
       "         2.17735730e-02, -1.68471206e-02,  3.06450855e-03,\n",
       "         3.19888406e-02,  8.11354723e-03,  1.14513596e-03,\n",
       "         7.98158161e-03,  1.17560355e-02, -2.23347042e-02,\n",
       "        -8.86454210e-02, -1.70741770e-02, -1.05178286e-03,\n",
       "        -1.69320833e-02],\n",
       "       [ 8.01927000e-02,  5.66017851e-02, -8.03819764e-03,\n",
       "        -1.05115637e-01,  2.86950842e-02,  3.40690851e-01,\n",
       "        -4.15050685e-02, -3.72137800e-02,  1.02585346e-01,\n",
       "        -4.04453650e-02, -1.46221489e-01, -1.81129277e-02,\n",
       "         1.49883389e-01,  5.37209101e-02,  1.40248507e-01,\n",
       "         5.18571325e-02,  1.16249910e-02,  2.16301933e-01,\n",
       "         1.79024786e-02,  1.91258788e-01,  2.68625449e-02,\n",
       "         3.45158949e-02, -1.33708492e-02,  1.93001027e-03,\n",
       "        -3.41906786e-01,  1.03003979e-01,  1.10016957e-01,\n",
       "        -1.11455195e-01],\n",
       "       [-1.87516347e-01, -6.07848652e-02, -9.79524851e-03,\n",
       "        -2.88004518e-01, -4.45339501e-01, -1.19223148e-02,\n",
       "         2.07422167e-01,  3.10835391e-01, -2.70893902e-01,\n",
       "        -4.51275229e-01, -4.04458493e-01,  7.93621689e-03,\n",
       "         3.85164507e-02, -1.67084306e-01,  3.56487278e-03,\n",
       "        -4.00051177e-02, -2.04400539e-01, -4.49075818e-01,\n",
       "        -1.28988445e-01, -2.12202787e-01, -5.66318817e-03,\n",
       "         1.18217446e-01,  3.14602911e-01, -7.83791319e-02,\n",
       "        -1.68094769e-01, -9.21887532e-02,  3.76194507e-01,\n",
       "         6.55421078e-01],\n",
       "       [ 9.01027583e-03, -2.14675635e-01, -3.82353249e-03,\n",
       "         7.93154612e-02,  1.79178879e-01, -6.60764705e-03,\n",
       "        -2.07376957e-01, -2.13195309e-01, -2.06451919e-02,\n",
       "        -7.67739117e-02, -5.36379553e-02,  2.08372436e-02,\n",
       "         9.55063384e-03, -4.05340075e-01,  1.02767507e-02,\n",
       "        -2.16081142e-02,  3.37633528e-02, -1.46236829e-02,\n",
       "        -8.00202414e-03, -5.64111583e-02,  3.99958901e-03,\n",
       "         3.32153812e-02, -1.95409860e-02, -7.46721402e-03,\n",
       "         3.86110656e-02,  2.35164165e-01,  3.94514352e-02,\n",
       "        -4.40664962e-02],\n",
       "       [-1.78254992e-02,  2.82706302e-02,  2.04707123e-02,\n",
       "        -1.74217314e-01, -2.06724405e-02,  1.36903338e-02,\n",
       "         3.42325717e-02, -1.13359448e-02, -2.32751463e-02,\n",
       "         4.43785824e-03,  1.29601965e-02,  2.04061950e-03,\n",
       "        -1.23460116e-02, -6.06338531e-02,  2.08533369e-02,\n",
       "         2.03087386e-02, -1.06647946e-02, -5.81300491e-03,\n",
       "         9.09737498e-03,  4.38251086e-02, -1.59547734e-03,\n",
       "         2.29800027e-02,  1.35811104e-03, -1.70610435e-02,\n",
       "         2.85838055e-03, -2.66181515e-03, -7.71029154e-03,\n",
       "         5.79121672e-02],\n",
       "       [ 4.75293472e-02,  3.25154513e-02,  2.94508077e-02,\n",
       "        -1.43716201e-01, -2.26723179e-02,  3.51201296e-01,\n",
       "        -2.11377721e-02, -5.83974123e-02,  1.36697277e-01,\n",
       "        -1.10443063e-01, -1.79316014e-01,  2.68945028e-03,\n",
       "         1.22262314e-01,  2.63376329e-02,  1.07366271e-01,\n",
       "         4.85448577e-02,  5.00589609e-02,  1.29088685e-01,\n",
       "         2.58053243e-02,  1.83541358e-01,  2.52346378e-02,\n",
       "         3.84475291e-02,  2.86605069e-03, -1.02009829e-02,\n",
       "        -1.89974561e-01,  4.07940224e-02, -2.37019658e-02,\n",
       "        -1.42250299e-01],\n",
       "       [ 2.65218556e-01,  2.42593382e-02, -2.69255251e-01,\n",
       "         9.13899913e-02,  7.77634263e-01,  1.54760885e+00,\n",
       "        -2.27280264e-03, -1.61708668e-01,  3.01725194e-02,\n",
       "         7.17328846e-01,  2.44413584e-01, -1.30076563e+00,\n",
       "        -3.67755085e-01,  2.16761097e-01,  1.45980641e-01,\n",
       "         1.98496029e-01,  8.59960556e-01, -2.55126029e-01,\n",
       "         9.84853208e-02,  4.57552135e-01,  3.93537655e-02,\n",
       "         1.54622293e+00, -5.74288368e-01,  3.91470766e+00,\n",
       "         1.45803660e-01,  7.71681294e-02, -3.37448508e-01,\n",
       "         2.51238436e-01],\n",
       "       [ 1.61077857e-01, -1.67454258e-01, -1.19720854e-01,\n",
       "        -3.50120127e-01, -7.38017261e-03,  1.89677373e-01,\n",
       "         8.09147835e-01,  1.73355147e-01,  2.28912568e+00,\n",
       "         2.24063665e-01,  5.54165781e-01,  3.87437630e+00,\n",
       "         1.29521847e-01,  1.48740888e-01,  3.99227649e-01,\n",
       "        -9.67010200e-01,  2.53559411e-01,  1.87638640e+00,\n",
       "         9.36894357e-01, -1.40140688e+00,  1.82857201e-01,\n",
       "        -3.16481471e+00, -6.45070970e-01, -5.95783412e-01,\n",
       "        -4.71173167e-01, -2.66982645e-01, -5.23593307e-01,\n",
       "         1.28045464e+00],\n",
       "       [-3.01230264e+00, -5.12008190e-01, -3.97511929e-01,\n",
       "        -5.27909584e-02, -1.65425226e-01,  4.36389506e-01,\n",
       "         1.39780414e+00, -1.75164354e+00, -3.98374647e-01,\n",
       "        -1.03158748e+00, -8.75403047e-01,  1.92516357e-01,\n",
       "         2.41528049e-01, -3.49454165e-01, -1.54384291e+00,\n",
       "         1.50599873e+00,  4.30876940e-01, -2.02530742e-01,\n",
       "         6.53477907e-01,  4.45757270e-01, -2.21041739e-01,\n",
       "        -1.68257803e-01,  3.68433058e-01, -9.98487622e-02,\n",
       "         1.55583948e-01, -4.38904196e-01,  7.22164452e-01,\n",
       "         1.29434454e+00],\n",
       "       [ 2.23481059e-01,  1.06273368e-01, -2.67376930e-01,\n",
       "        -1.08991480e-02,  1.14475433e-02, -1.27904606e+00,\n",
       "         6.42708004e-01, -4.26009178e-01,  1.89745545e+00,\n",
       "         3.68862152e-01,  2.00135916e-01, -1.43652499e-01,\n",
       "         1.72967553e-01,  6.89339161e-01,  5.27376294e-01,\n",
       "        -4.26674318e+00, -1.51982033e+00,  5.30735612e-01,\n",
       "        -1.80382296e-01,  6.69366121e-01,  1.35583565e-01,\n",
       "         7.56673276e-01, -2.06643009e+00, -2.99311370e-01,\n",
       "         1.04544021e-01,  8.38269740e-02,  1.11295855e+00,\n",
       "         1.27600026e+00],\n",
       "       [ 7.25722373e-01,  2.05571994e-01, -6.18549705e-01,\n",
       "        -1.24696918e-01,  9.26410317e-01, -1.31694949e+00,\n",
       "         6.69082776e-02, -2.36367539e-01,  1.62275359e-01,\n",
       "        -1.05089879e+00, -5.10772169e-01, -4.69476879e-02,\n",
       "        -3.88196445e+00, -1.98232785e-01, -2.72993731e+00,\n",
       "         1.11408949e-01,  3.49250031e+00,  3.14549983e-01,\n",
       "         1.06192338e+00,  3.22362065e+00,  2.32468903e-01,\n",
       "         3.16298276e-01, -9.36055958e-01,  9.22929719e-02,\n",
       "         4.85782623e-02,  1.94847330e-01,  2.47893524e+00,\n",
       "        -4.51850146e-01],\n",
       "       [-1.63674569e+00, -1.06781840e+00,  1.78507221e+00,\n",
       "        -3.14348131e-01,  7.83477664e-01,  9.36735272e-01,\n",
       "        -5.03404140e-01, -5.95392644e-01, -1.98404145e+00,\n",
       "         3.16463888e-01, -8.65329444e-01,  5.25477052e-01,\n",
       "        -8.97367954e-01,  1.72865987e-01,  2.53310895e+00,\n",
       "         7.40107536e-01, -5.96448898e-01, -8.05365980e-01,\n",
       "        -4.80234766e+00,  3.12070280e-01, -4.23059034e+00,\n",
       "        -1.18677588e-02,  6.14838660e-01, -1.22160232e+00,\n",
       "        -2.07269147e-01, -1.02157092e+00, -2.52120829e+00,\n",
       "        -3.86088997e-01],\n",
       "       [ 9.15042400e-01,  9.10005391e-01,  3.46597290e+00,\n",
       "        -6.86824247e-02, -2.69836402e+00, -1.84202623e+00,\n",
       "        -1.49188149e+00,  6.27176821e-01,  1.90058088e+00,\n",
       "        -7.45255575e-02,  1.23950505e+00, -6.44194067e-01,\n",
       "         1.70583498e+00, -1.68855727e+00, -1.56555629e+00,\n",
       "         2.59194434e-01,  7.83202231e-01, -1.01604712e+00,\n",
       "         1.10250819e+00,  2.87307173e-01,  5.31636715e-01,\n",
       "        -3.03129530e+00,  3.99116087e+00,  6.91874981e-01,\n",
       "        -2.08592728e-01,  6.27840042e-01,  1.32111907e+00,\n",
       "        -2.03600693e+00]], dtype=float32)"
      ]
     },
     "execution_count": 145,
     "metadata": {},
     "output_type": "execute_result"
    }
   ],
   "source": [
    "weights # WEIGHTS"
   ]
  },
  {
   "cell_type": "code",
   "execution_count": 146,
   "metadata": {},
   "outputs": [],
   "source": [
    "biases = model_nn.layers[0].get_weights()[1]"
   ]
  },
  {
   "cell_type": "code",
   "execution_count": 147,
   "metadata": {},
   "outputs": [
    {
     "data": {
      "text/plain": [
       "array([ 0.42876536, -2.636871  , -3.133391  , -0.21402127, -0.01613767,\n",
       "        0.24638681, -1.0909663 , -1.2936528 , -1.6251913 , -1.3448228 ,\n",
       "       -1.6287134 , -2.5753882 ,  2.589398  , -2.3960936 ,  1.4228315 ,\n",
       "        2.2282984 , -1.7310858 ,  3.1919067 ,  0.6955804 , -0.61121124,\n",
       "        2.7032175 ,  1.8859388 ,  0.5802684 , -1.503405  , -0.16874968,\n",
       "       -2.7698474 , -1.30873   , -1.1542922 ], dtype=float32)"
      ]
     },
     "execution_count": 147,
     "metadata": {},
     "output_type": "execute_result"
    }
   ],
   "source": [
    "biases # BIASES"
   ]
  },
  {
   "cell_type": "code",
   "execution_count": null,
   "metadata": {},
   "outputs": [],
   "source": [
    "# Validation Accuracy = 0.7362\n",
    "# Training Accuracy = 0.7341\n",
    "# Validation Loss = 0.5240\n",
    "# Training Loss = 0.5240"
   ]
  },
  {
   "cell_type": "code",
   "execution_count": 118,
   "metadata": {
    "colab": {
     "base_uri": "https://localhost:8080/",
     "height": 34
    },
    "id": "2rVEZ6oj_Km9",
    "outputId": "56a7fbff-ca8c-485f-ac39-3fff8f303eea"
   },
   "outputs": [
    {
     "name": "stdout",
     "output_type": "stream",
     "text": [
      "dict_keys(['loss', 'accuracy', 'val_loss', 'val_accuracy'])\n"
     ]
    }
   ],
   "source": [
    "# list all data in history\n",
    "print(history.history.keys())"
   ]
  },
  {
   "cell_type": "code",
   "execution_count": 119,
   "metadata": {},
   "outputs": [
    {
     "data": {
      "image/png": "[encoded data removed]",
      "text/plain": [
       "<Figure size 576x360 with 1 Axes>"
      ]
     },
     "metadata": {},
     "output_type": "display_data"
    }
   ],
   "source": [
    "import pandas as pd\n",
    "pd.DataFrame(history.history).plot(figsize=(8, 5))\n",
    "plt.grid(True)\n",
    "plt.gca().set_ylim(0, 1) # set the vertical range to [0-1]\n",
    "plt.show()"
   ]
  },
  {
   "cell_type": "markdown",
   "metadata": {
    "id": "8KAg7JEiU3Na"
   },
   "source": [
    "**Plot accuracy wrt number of epochs**"
   ]
  },
  {
   "cell_type": "code",
   "execution_count": 122,
   "metadata": {
    "colab": {
     "base_uri": "https://localhost:8080/",
     "height": 295
    },
    "id": "8wQsZEa9PYJw",
    "outputId": "8c581744-3f6f-4d27-f3b7-a2fde1aa1e33"
   },
   "outputs": [
    {
     "data": {
      "image/png": "[encoded data removed]",
      "text/plain": [
       "<Figure size 432x288 with 1 Axes>"
      ]
     },
     "metadata": {},
     "output_type": "display_data"
    }
   ],
   "source": [
    "\n",
    "# summarize history for accuracy\n",
    "plt.plot(history.history['accuracy'])\n",
    "plt.plot(history.history['val_accuracy'])\n",
    "plt.title('model accuracy')\n",
    "plt.ylabel('accuracy')\n",
    "plt.xlabel('epoch')\n",
    "plt.legend(['train', 'val'], loc='upper left')\n",
    "plt.show()\n"
   ]
  },
  {
   "cell_type": "markdown",
   "metadata": {
    "id": "mb_eTlfgUzsR"
   },
   "source": [
    "**Plot training loss wrt number of epochs**"
   ]
  },
  {
   "cell_type": "code",
   "execution_count": 123,
   "metadata": {
    "colab": {
     "base_uri": "https://localhost:8080/",
     "height": 295
    },
    "id": "-jyiKksT_JjN",
    "outputId": "057c4f1d-59be-4f70-91ad-fa39c669e33f"
   },
   "outputs": [
    {
     "data": {
      "image/png": "[encoded data removed]",
      "text/plain": [
       "<Figure size 432x288 with 1 Axes>"
      ]
     },
     "metadata": {},
     "output_type": "display_data"
    }
   ],
   "source": [
    "# summarize history for loss\n",
    "plt.plot(history.history['loss'])\n",
    "plt.plot(history.history['val_loss'])\n",
    "plt.title('model loss')\n",
    "plt.ylabel('loss')\n",
    "plt.xlabel('epoch')\n",
    "plt.legend(['train', 'val'], loc='upper left')\n",
    "plt.show()"
   ]
  },
  {
   "cell_type": "code",
   "execution_count": 124,
   "metadata": {
    "id": "iYlPzQroWxiC"
   },
   "outputs": [],
   "source": [
    "y_pred=model_nn.predict(X_val)"
   ]
  },
  {
   "cell_type": "code",
   "execution_count": 125,
   "metadata": {
    "colab": {
     "base_uri": "https://localhost:8080/",
     "height": 51
    },
    "id": "KPaO498pWI_o",
    "outputId": "66bdd751-eb2d-4a6f-c8f2-99c81fac6899"
   },
   "outputs": [
    {
     "data": {
      "text/plain": [
       "array([[120483,  50210],\n",
       "       [ 45550, 146757]], dtype=int64)"
      ]
     },
     "execution_count": 125,
     "metadata": {},
     "output_type": "execute_result"
    }
   ],
   "source": [
    "confusion_matrix(y_val, y_pred.round())"
   ]
  },
  {
   "cell_type": "code",
   "execution_count": 126,
   "metadata": {},
   "outputs": [
    {
     "data": {
      "text/plain": [
       "0.7450842019221494"
      ]
     },
     "execution_count": 126,
     "metadata": {},
     "output_type": "execute_result"
    }
   ],
   "source": [
    "from sklearn.metrics import precision_score, recall_score\n",
    "precision_score(y_val,y_pred.round())"
   ]
  },
  {
   "cell_type": "code",
   "execution_count": 127,
   "metadata": {},
   "outputs": [
    {
     "data": {
      "text/plain": [
       "0.7631391473009302"
      ]
     },
     "execution_count": 127,
     "metadata": {},
     "output_type": "execute_result"
    }
   ],
   "source": [
    "recall_score(y_val,y_pred.round())"
   ]
  },
  {
   "cell_type": "markdown",
   "metadata": {
    "id": "Pal8tfejcsno"
   },
   "source": [
    "**Plot the ROC (Receiver Operating Characteristic) Curve** (more info on ROC could be found [here](https://en.wikipedia.org/wiki/Receiver_operating_characteristic)"
   ]
  },
  {
   "cell_type": "code",
   "execution_count": 157,
   "metadata": {
    "colab": {
     "base_uri": "https://localhost:8080/",
     "height": 350
    },
    "id": "Twqf5QaocaAQ",
    "outputId": "5eb8100f-b0f9-477b-c920-c03b65c69a33"
   },
   "outputs": [
    {
     "data": {
      "image/png": "[encoded data removed]",
      "text/plain": [
       "<Figure size 432x432 with 1 Axes>"
      ]
     },
     "metadata": {},
     "output_type": "display_data"
    }
   ],
   "source": [
    "from plot_metric.functions import BinaryClassification\n",
    "# Visualisation with plot_metric\n",
    "bc = BinaryClassification(y_pred.round(), y_val, labels=[\"Class 1\", \"Class 2\"])\n",
    "\n",
    "# Figures\n",
    "Y = plt.figure(figsize=(6,6))\n",
    "bc.plot_roc_curve()\n",
    "plt.show()\n",
    "Y.savefig('ROC_ANN.png')"
   ]
  },
  {
   "cell_type": "markdown",
   "metadata": {
    "id": "uZafh85tVcYR"
   },
   "source": [
    "**Goal:** Please train your own machine learning model (or modify provided examples) with the goal of attaining the top classifier performance."
   ]
  },
  {
   "cell_type": "markdown",
   "metadata": {
    "id": "GZt0twTRVMR_"
   },
   "source": [
    "**Deliverables:**\n",
    "\n",
    "Please submit the following:\n",
    "\n",
    "Your full notebook used for training including the ROC Curves, model weights and loss and accuracy plots wrt number of epochs."
   ]
  },
  {
   "cell_type": "markdown",
   "metadata": {
    "id": "TP5kN1dZVlUF"
   },
   "source": [
    "**References:**\n",
    "\n",
    "Baldi, P., Sadowski P., and Whiteson D. “Searching for Exotic Particles in High-energy Physics with Deep Learning.” Nature Communications 5 (July 2, 2014)."
   ]
  },
  {
   "cell_type": "code",
   "execution_count": null,
   "metadata": {},
   "outputs": [],
   "source": [
    "# UTILIZING RANDOM FOREST"
   ]
  },
  {
   "cell_type": "code",
   "execution_count": 129,
   "metadata": {},
   "outputs": [],
   "source": [
    "from sklearn.datasets import make_gaussian_quantiles\n",
    "from sklearn.ensemble import AdaBoostClassifier\n",
    "from sklearn.metrics import accuracy_score\n",
    "from sklearn.tree import DecisionTreeClassifier\n",
    "from sklearn.metrics import confusion_matrix\n",
    "from sklearn.model_selection import train_test_split\n",
    "import pandas as pd\n",
    "import numpy as np\n",
    "from sklearn.metrics import roc_curve, auc\n",
    "import matplotlib.pyplot as plt\n",
    "from sklearn.ensemble import RandomForestClassifier\n",
    "from sklearn.model_selection import GridSearchCV\n",
    "from sklearn.ensemble import RandomForestClassifier\n",
    "from sklearn.model_selection import cross_val_score"
   ]
  },
  {
   "cell_type": "code",
   "execution_count": 130,
   "metadata": {},
   "outputs": [
    {
     "data": {
      "text/plain": [
       "RandomForestClassifier(max_depth=25, min_samples_split=15, n_estimators=800,\n",
       "                       random_state=42)"
      ]
     },
     "execution_count": 130,
     "metadata": {},
     "output_type": "execute_result"
    }
   ],
   "source": [
    "rnd_clf=RandomForestClassifier(n_estimators=800, random_state=42,max_depth=25,min_samples_split=15)\n",
    "rnd_clf.fit(X_train1, y_train1)\n"
   ]
  },
  {
   "cell_type": "code",
   "execution_count": 131,
   "metadata": {},
   "outputs": [],
   "source": [
    "scores_rnd_clf = cross_val_score(RandomForestClassifier(), X_train1, y_train1, cv=5)\n"
   ]
  },
  {
   "cell_type": "code",
   "execution_count": 132,
   "metadata": {},
   "outputs": [
    {
     "name": "stdout",
     "output_type": "stream",
     "text": [
      "Cross-validation scores using k fold cross validation=\n",
      "0.7323514246947084\n"
     ]
    }
   ],
   "source": [
    "print('Cross-validation scores using k fold cross validation=')\n",
    "print(scores_rnd_clf.mean())"
   ]
  },
  {
   "cell_type": "code",
   "execution_count": 133,
   "metadata": {},
   "outputs": [
    {
     "name": "stdout",
     "output_type": "stream",
     "text": [
      "Confusion_matrix=\n",
      "<function confusion_matrix at 0x0000012195E26280>\n"
     ]
    }
   ],
   "source": [
    "validation_RNF=rnd_clf.predict(X_val)\n",
    "confusion_matrix(y_val, validation_RNF)\n"
   ]
  },
  {
   "cell_type": "code",
   "execution_count": 134,
   "metadata": {},
   "outputs": [
    {
     "data": {
      "text/plain": [
       "array([[121267,  49426],\n",
       "       [ 45741, 146566]], dtype=int64)"
      ]
     },
     "execution_count": 134,
     "metadata": {},
     "output_type": "execute_result"
    }
   ],
   "source": [
    "confusion_matrix(y_val, validation_RNF)"
   ]
  },
  {
   "cell_type": "code",
   "execution_count": 135,
   "metadata": {},
   "outputs": [
    {
     "data": {
      "text/plain": [
       "0.737831955922865"
      ]
     },
     "execution_count": 135,
     "metadata": {},
     "output_type": "execute_result"
    }
   ],
   "source": [
    "accuracy_score(y_val, validation_RNF)\n"
   ]
  },
  {
   "cell_type": "code",
   "execution_count": 154,
   "metadata": {},
   "outputs": [
    {
     "data": {
      "text/plain": [
       "0.7478162373974447"
      ]
     },
     "execution_count": 154,
     "metadata": {},
     "output_type": "execute_result"
    }
   ],
   "source": [
    "precision_score(y_val,validation_RNF)"
   ]
  },
  {
   "cell_type": "code",
   "execution_count": 155,
   "metadata": {},
   "outputs": [
    {
     "data": {
      "text/plain": [
       "0.7621459437253975"
      ]
     },
     "execution_count": 155,
     "metadata": {},
     "output_type": "execute_result"
    }
   ],
   "source": [
    "recall_score(y_val,validation_RNF)"
   ]
  },
  {
   "cell_type": "code",
   "execution_count": 152,
   "metadata": {},
   "outputs": [
    {
     "data": {
      "image/png": "[encoded data removed]",
      "text/plain": [
       "<Figure size 360x360 with 1 Axes>"
      ]
     },
     "metadata": {},
     "output_type": "display_data"
    }
   ],
   "source": [
    "# Visualisation with plot_metric\n",
    "bc = BinaryClassification(validation_RNF.round(), y_val, labels=[\"Class 1\", \"Class 2\"])\n",
    "\n",
    "# Figures\n",
    "X = plt.figure(figsize=(5,5))\n",
    "bc.plot_roc_curve()\n",
    "plt.show()\n",
    "X.savefig('ROC_RF.png')\n"
   ]
  }
 ],
 "metadata": {
  "accelerator": "GPU",
  "colab": {
   "collapsed_sections": [],
   "name": "UA_hackathon.ipynb",
   "provenance": []
  },
  "kernelspec": {
   "display_name": "Python 3",
   "language": "python",
   "name": "python3"
  },
  "language_info": {
   "codemirror_mode": {
    "name": "ipython",
    "version": 3
   },
   "file_extension": ".py",
   "mimetype": "text/x-python",
   "name": "python",
   "nbconvert_exporter": "python",
   "pygments_lexer": "ipython3",
   "version": "3.8.5"
  },
  "latex_envs": {
   "LaTeX_envs_menu_present": true,
   "autoclose": false,
   "autocomplete": true,
   "bibliofile": "biblio.bib",
   "cite_by": "apalike",
   "current_citInitial": 1,
   "eqLabelWithNumbers": true,
   "eqNumInitial": 1,
   "hotkeys": {
    "equation": "Ctrl-E",
    "itemize": "Ctrl-I"
   },
   "labels_anchors": false,
   "latex_user_defs": false,
   "report_style_numbering": false,
   "user_envs_cfg": false
  }
 },
 "nbformat": 4,
 "nbformat_minor": 1
}
